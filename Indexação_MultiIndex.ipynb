{
  "nbformat": 4,
  "nbformat_minor": 0,
  "metadata": {
    "colab": {
      "name": "Indexação_MultiIndex.ipynb",
      "provenance": [],
      "authorship_tag": "ABX9TyP2S3dl1LnN4dcGxRG0N2iD",
      "include_colab_link": true
    },
    "kernelspec": {
      "name": "python3",
      "display_name": "Python 3"
    },
    "language_info": {
      "name": "python"
    }
  },
  "cells": [
    {
      "cell_type": "markdown",
      "metadata": {
        "id": "view-in-github",
        "colab_type": "text"
      },
      "source": [
        "<a href=\"https://colab.research.google.com/github/Ana-ovidio/study_Pandas.py/blob/main/Indexa%C3%A7%C3%A3o_MultiIndex.ipynb\" target=\"_parent\"><img src=\"https://colab.research.google.com/assets/colab-badge.svg\" alt=\"Open In Colab\"/></a>"
      ]
    },
    {
      "cell_type": "code",
      "execution_count": 1,
      "metadata": {
        "id": "bYTMdRY--TwS"
      },
      "outputs": [],
      "source": [
        "import pandas as pd"
      ]
    },
    {
      "cell_type": "markdown",
      "source": [
        "# **pandas.MultiIndex.from_arrays(arrays)**\n",
        "\n",
        "A função é responsável por associar **elementos de mesma posição** vindos de **listas diferentes de tamanhos iguais**. \n",
        "\n",
        "lista_A = [a0, a1, a2, ..., an]\n",
        "\n",
        "lista_B = [b0, b1, b2, ..., bn]\n",
        "\n",
        "pd.MultiIndex.from_arrays([lista_A, lista_B]) = [(a0, b0), (a1, b1), ... (an,bn)]\n",
        "\n",
        "------------------------\n",
        "\n",
        "The function is responsible to associate **elements with the same position** from **different lists**. \n",
        "\n",
        "\n",
        "list_A = [a0, a1, a2, ..., an]\n",
        "\n",
        "list_B = [b0, b1, b2, ..., bn]\n",
        "\n",
        "pd.MultiIndex.from_arrays([list_A, list_B]) = [(a0, b0), (a1, b1), ... (an,bn)]\n",
        "\n"
      ],
      "metadata": {
        "id": "d4W3NxbQ_DzT"
      }
    },
    {
      "cell_type": "code",
      "source": [
        "arrays = [[1,1,3,2], ['red', 'blue', 'red', 'blue']]\n",
        "a = pd.MultiIndex.from_arrays(arrays, names = ('number', 'colors'))"
      ],
      "metadata": {
        "id": "8dGyZ0q6_CDV"
      },
      "execution_count": 7,
      "outputs": []
    },
    {
      "cell_type": "code",
      "source": [
        "a"
      ],
      "metadata": {
        "colab": {
          "base_uri": "https://localhost:8080/"
        },
        "id": "NDKz_Xg1_wob",
        "outputId": "37a46759-2aaa-4d02-bfca-77d7b39074d5"
      },
      "execution_count": 8,
      "outputs": [
        {
          "output_type": "execute_result",
          "data": {
            "text/plain": [
              "MultiIndex([(1,  'red'),\n",
              "            (1, 'blue'),\n",
              "            (3,  'red'),\n",
              "            (2, 'blue')],\n",
              "           names=['number', 'colors'])"
            ]
          },
          "metadata": {},
          "execution_count": 8
        }
      ]
    },
    {
      "cell_type": "markdown",
      "source": [
        "## **Alguns parâmetros importantes sobre a função MultiIndex**\n",
        "\n",
        "*levels* = Elementos únicos em cada lista, ou seja, todos os váriados elementos representados uma só vez. \n",
        "\n",
        "Para a lista *arrays*: levels = [ [1,2,3], ['blue','red'] ]\n",
        "\n",
        "*codes* = Na formação de levels, cada elemento terá uma nova posição ( [0] = 1, [1] = 2, [2] = 3 / [0] = 'blue', [1] = 'red' - [n] = posição n). Agora, o passo é representar tais posições na lista de *arrays*:\n",
        "\n",
        "arrays[ [0,0,1,2],[1,0,1,0] ]\n",
        "\n",
        "--------------------------------------\n",
        "\n",
        "## **Same important parameters about the MuntiIndex function**\n",
        "\n",
        "*levels* = All elements includes in the list, but without repetition. \n",
        "\n",
        "For *arrays* list: levels = [ [1,2,3], ['blue','red'] ]\n",
        "\n",
        "*codes* = In the levels, each elements have a new position ( [0] = 1, [1] = 2, [2] = 3 / [0] = 'blue', [1] = 'red' - [n] = position n). Now, the next step is represent this position inside the *arrays* list. \n",
        "\n",
        "arrays[ [0,0,1,2],[1,0,1,0] ]\n",
        "\n"
      ],
      "metadata": {
        "id": "2i2FtDVaBVH8"
      }
    },
    {
      "cell_type": "code",
      "source": [
        "?pd.MultiIndex"
      ],
      "metadata": {
        "id": "u6zcxSV0A9Xe"
      },
      "execution_count": 11,
      "outputs": []
    },
    {
      "cell_type": "markdown",
      "source": [
        "# **pandas.MultiIndex.from_product**\n",
        "\n",
        "O raciocínio é semelhante ao pacote *from_arrays*. No entanto, aqui há a combinação de todos os elementos das listas. Logo, elas não precisam ter o mesmo tamanho. \n",
        "\n",
        "__________________________\n",
        "\n",
        "The knowledge is similar to the *from_arrays* package. However, there is a combination of all elements from the lists. Thus, it does not have the same length."
      ],
      "metadata": {
        "id": "9stytK8gC5GR"
      }
    },
    {
      "cell_type": "code",
      "source": [
        "arrays = [[1,2,2, 3, 4, 5], ['blue', 'red']]\n",
        "pd.MultiIndex.from_product(arrays)"
      ],
      "metadata": {
        "colab": {
          "base_uri": "https://localhost:8080/"
        },
        "id": "61pllMriBTJ7",
        "outputId": "54dd7e97-2b5e-49c5-ff92-0fc38511aab6"
      },
      "execution_count": 12,
      "outputs": [
        {
          "output_type": "execute_result",
          "data": {
            "text/plain": [
              "MultiIndex([(1, 'blue'),\n",
              "            (1,  'red'),\n",
              "            (2, 'blue'),\n",
              "            (2,  'red'),\n",
              "            (2, 'blue'),\n",
              "            (2,  'red'),\n",
              "            (3, 'blue'),\n",
              "            (3,  'red'),\n",
              "            (4, 'blue'),\n",
              "            (4,  'red'),\n",
              "            (5, 'blue'),\n",
              "            (5,  'red')],\n",
              "           )"
            ]
          },
          "metadata": {},
          "execution_count": 12
        }
      ]
    }
  ]
}